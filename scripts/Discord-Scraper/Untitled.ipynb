{
 "cells": [
  {
   "cell_type": "code",
   "execution_count": 5,
   "metadata": {},
   "outputs": [
    {
     "ename": "SyntaxError",
     "evalue": "invalid syntax (discord.py, line 3)",
     "output_type": "error",
     "traceback": [
      "Traceback \u001b[1;36m(most recent call last)\u001b[0m:\n",
      "  File \u001b[0;32m\"C:\\Users\\Vince\\anaconda3\\lib\\site-packages\\IPython\\core\\interactiveshell.py\"\u001b[0m, line \u001b[0;32m3331\u001b[0m, in \u001b[0;35mrun_code\u001b[0m\n    exec(code_obj, self.user_global_ns, self.user_ns)\n",
      "\u001b[1;36m  File \u001b[1;32m\"<ipython-input-5-1e8e5d264d6a>\"\u001b[1;36m, line \u001b[1;32m1\u001b[1;36m, in \u001b[1;35m<module>\u001b[1;36m\u001b[0m\n\u001b[1;33m    import discord.py\u001b[0m\n",
      "\u001b[1;36m  File \u001b[1;32m\"C:\\Users\\Vince\\Desktop\\Discord-Scraper\\discord.py\"\u001b[1;36m, line \u001b[1;32m3\u001b[0m\n\u001b[1;33m    Import json\u001b[0m\n\u001b[1;37m              ^\u001b[0m\n\u001b[1;31mSyntaxError\u001b[0m\u001b[1;31m:\u001b[0m invalid syntax\n"
     ]
    }
   ],
   "source": [
    "import discord.py\n",
    "import json"
   ]
  },
  {
   "cell_type": "code",
   "execution_count": null,
   "metadata": {},
   "outputs": [],
   "source": [
    "discord.py(cached_messages)"
   ]
  },
  {
   "cell_type": "code",
   "execution_count": null,
   "metadata": {},
   "outputs": [],
   "source": [
    "@client.event\n",
    "async def on_message(message):\n",
    "    if message.content.startswith('$greet'):\n",
    "        channel = message.channel\n",
    "        await channel.send('Say hello!')\n",
    "\n",
    "        def check(m):\n",
    "            return m.content == 'hello' and m.channel == channel\n",
    "\n",
    "        msg = await client.wait_for('message', check=check)\n",
    "        await channel.send('Hello {.author}!'.format(msg))"
   ]
  },
  {
   "cell_type": "code",
   "execution_count": null,
   "metadata": {},
   "outputs": [],
   "source": [
    "@client.event\n",
    "async def on_message(message):\n",
    "    if message.content.startswith('%bear',):\n",
    "        channel = message.channel\n",
    "        await channel.send('Send me that 👍 reaction, mate')\n",
    "\n",
    "        def check(reaction, user):\n",
    "            return user == message.author and str(reaction.emoji) == '👍'\n",
    "\n",
    "        try:\n",
    "            reaction, user = await client.wait_for('reaction_add', timeout=60.0, check=check)\n",
    "        except asyncio.TimeoutError:\n",
    "            await channel.send('👎')\n",
    "        else:\n",
    "            await channel.send('👍')"
   ]
  }
 ],
 "metadata": {
  "kernelspec": {
   "display_name": "Python 3",
   "language": "python",
   "name": "python3"
  },
  "language_info": {
   "codemirror_mode": {
    "name": "ipython",
    "version": 3
   },
   "file_extension": ".py",
   "mimetype": "text/x-python",
   "name": "python",
   "nbconvert_exporter": "python",
   "pygments_lexer": "ipython3",
   "version": "3.7.6"
  }
 },
 "nbformat": 4,
 "nbformat_minor": 4
}
